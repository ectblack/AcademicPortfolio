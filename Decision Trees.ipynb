{
 "cells": [
  {
   "cell_type": "code",
   "execution_count": 2,
   "id": "59c07ae7-dd94-48a6-a40d-f3a51922ca6c",
   "metadata": {},
   "outputs": [
    {
     "name": "stdout",
     "output_type": "stream",
     "text": [
      "Making predictions for the following 5 houses:\n",
      "    Rooms  Bathroom  Landsize  Lattitude  Longtitude\n",
      "2       2       1.0     156.0   -37.8079    144.9934\n",
      "4       3       2.0     134.0   -37.8093    144.9944\n",
      "6       4       1.0     120.0   -37.8072    144.9941\n",
      "11      3       2.0     245.0   -37.8024    144.9993\n",
      "14      2       1.0     256.0   -37.8060    144.9954\n",
      "The predictions are:\n",
      "[1035000. 1465000. 1600000. 1876000. 1636000.]\n"
     ]
    }
   ],
   "source": [
    "#Import necessary libraries\n",
    "import pandas as pd\n",
    "from sklearn.tree import DecisionTreeRegressor\n",
    "\n",
    "#Load the dataset\n",
    "melbourne_data = pd.read_csv(r'C:\\Users\\ecall\\archive\\melbourne_housing_FULL.csv')\n",
    "\n",
    "#Drop rows with missing values\n",
    "melbourne_data = melbourne_data.dropna()\n",
    "\n",
    "#Select features\n",
    "melbourne_features = ['Rooms', 'Bathroom', 'Landsize', 'Lattitude', 'Longtitude']\n",
    "X = melbourne_data[melbourne_features]\n",
    "\n",
    "#Define the target variable\n",
    "y = melbourne_data['Price']\n",
    "\n",
    "#Define the model\n",
    "melbourne_model = DecisionTreeRegressor()\n",
    "\n",
    "#Train the model\n",
    "melbourne_model.fit(X, y)\n",
    "\n",
    "#Make predictions for the first 5 houses\n",
    "print(\"Making predictions for the following 5 houses:\")\n",
    "print(X.head())\n",
    "\n",
    "print(\"The predictions are:\")\n",
    "print(melbourne_model.predict(X.head()))\n"
   ]
  },
  {
   "cell_type": "code",
   "execution_count": null,
   "id": "d1036612-60ff-497b-b67c-cb8f1aa08b4a",
   "metadata": {},
   "outputs": [],
   "source": []
  }
 ],
 "metadata": {
  "kernelspec": {
   "display_name": "Python 3 (ipykernel)",
   "language": "python",
   "name": "python3"
  },
  "language_info": {
   "codemirror_mode": {
    "name": "ipython",
    "version": 3
   },
   "file_extension": ".py",
   "mimetype": "text/x-python",
   "name": "python",
   "nbconvert_exporter": "python",
   "pygments_lexer": "ipython3",
   "version": "3.12.4"
  }
 },
 "nbformat": 4,
 "nbformat_minor": 5
}
